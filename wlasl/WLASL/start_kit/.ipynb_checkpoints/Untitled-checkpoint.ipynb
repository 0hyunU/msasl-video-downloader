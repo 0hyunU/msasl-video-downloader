{
 "cells": [
  {
   "cell_type": "code",
   "execution_count": 3,
   "id": "7cffbc10",
   "metadata": {},
   "outputs": [],
   "source": [
    "# TensorFlow and tf.keras\n",
    "import tensorflow as tf\n",
    "from sklearn.model_selection import train_test_split\n",
    "\n",
    "from load_data import try_PCA, load_data"
   ]
  },
  {
   "cell_type": "code",
   "execution_count": 36,
   "id": "c8176513",
   "metadata": {},
   "outputs": [],
   "source": [
    "def dnn_model_after_pca():\n",
    "    model = tf.keras.Sequential([\n",
    "    tf.keras.layers.Dense(19, activation='tanh', input_shape = (19,)),\n",
    "    tf.keras.layers.Dense(128, activation='tanh'),\n",
    "    tf.keras.layers.Dense(64, activation='tanh'),\n",
    "    tf.keras.layers.Dense(30, activation = 'softmax')\n",
    "    ])\n",
    "\n",
    "    model.compile(loss=\"sparse_categorical_crossentropy\",\n",
    "              optimizer=\"sgd\",\n",
    "              metrics=[\"accuracy\"])\n",
    "    return model"
   ]
  },
  {
   "cell_type": "code",
   "execution_count": 37,
   "id": "61887d08",
   "metadata": {},
   "outputs": [],
   "source": [
    "def train(x,y):\n",
    "    from sklearn.preprocessing import LabelBinarizer\n",
    "    encoder = LabelBinarizer()\n",
    "\n",
    "    transfomed_label = encoder.fit_transform(y)\n",
    "    y = transfomed_label.argmax(1)\n",
    "    y = np.array(y).astype(float)\n",
    "    (train_x, test_x, train_y, test_y) = train_test_split(\n",
    "\t                                                    x,y, test_size=0.2, random_state=42)\n",
    "    print(x.shape)\n",
    "    model = dnn_model_after_pca()\n",
    "    #tf.config.list_physical_devices('GPU')\n",
    "    print(tf.test.is_gpu_available())\n",
    "    print(model.summary())\n",
    "    \n",
    "    history = model.fit(train_x, train_y, epochs=100)\n",
    "    \n",
    "    print(model.evaluate(test_x,test_Y))\n",
    "    return history,model\n"
   ]
  },
  {
   "cell_type": "code",
   "execution_count": 38,
   "id": "d8937779",
   "metadata": {},
   "outputs": [],
   "source": [
    "from sklearn.preprocessing import LabelBinarizer\n",
    "import numpy as np\n",
    "def y_lable_encode(y):\n",
    "    # y label encoder\n",
    "    encoder = LabelBinarizer()\n",
    "\n",
    "    transfomed_label = encoder.fit_transform(y)\n",
    "    y = transfomed_label.argmax(1)\n",
    "    y = np.array(y).astype(float)\n",
    "\n",
    "    return y"
   ]
  },
  {
   "cell_type": "code",
   "execution_count": 39,
   "id": "6f1c93b5",
   "metadata": {},
   "outputs": [
    {
     "name": "stdout",
     "output_type": "stream",
     "text": [
      "(915, 19)\n"
     ]
    },
    {
     "data": {
      "text/plain": [
       "array([ 0.,  0.,  0.,  0.,  0.,  0.,  0.,  0.,  0.,  0.,  0.,  0.,  0.,\n",
       "        0.,  0.,  0.,  0.,  0.,  0.,  0.,  0.,  0.,  0.,  0.,  0.,  0.,\n",
       "        0.,  0.,  1.,  1.,  1.,  1.,  1.,  1.,  1.,  1.,  1.,  1.,  1.,\n",
       "        1.,  1.,  1.,  1.,  1.,  1.,  1.,  1.,  1.,  1.,  1.,  1.,  1.,\n",
       "        1.,  1.,  1.,  2.,  2.,  2.,  2.,  2.,  2.,  2.,  2.,  2.,  2.,\n",
       "        2.,  2.,  2.,  2.,  2.,  2.,  2.,  2.,  2.,  2.,  2.,  2.,  2.,\n",
       "        2.,  2.,  2.,  2.,  2.,  2.,  2.,  2.,  2.,  2.,  2.,  2.,  2.,\n",
       "        3.,  3.,  3.,  3.,  3.,  3.,  3.,  3.,  3.,  3.,  3.,  3.,  3.,\n",
       "        3.,  3.,  3.,  3.,  3.,  3.,  3.,  3.,  3.,  3.,  3.,  3.,  3.,\n",
       "        3.,  3.,  3.,  3.,  4.,  4.,  4.,  4.,  4.,  4.,  4.,  4.,  4.,\n",
       "        4.,  4.,  4.,  4.,  4.,  4.,  4.,  4.,  4.,  4.,  4.,  5.,  5.,\n",
       "        5.,  5.,  5.,  5.,  5.,  5.,  5.,  5.,  5.,  5.,  5.,  5.,  5.,\n",
       "        5.,  5.,  5.,  5.,  5.,  5.,  5.,  5.,  5.,  5.,  5.,  5.,  5.,\n",
       "        6.,  6.,  6.,  6.,  6.,  6.,  6.,  6.,  6.,  6.,  6.,  6.,  6.,\n",
       "        6.,  6.,  6.,  6.,  6.,  6.,  6.,  6.,  6.,  6.,  6.,  6.,  6.,\n",
       "        6.,  6.,  6.,  6.,  6.,  6.,  6.,  6.,  6.,  6.,  6.,  6.,  6.,\n",
       "        6.,  7.,  7.,  7.,  7.,  7.,  7.,  7.,  7.,  7.,  7.,  7.,  7.,\n",
       "        7.,  7.,  7.,  7.,  7.,  7.,  7.,  7.,  7.,  7.,  7.,  7.,  7.,\n",
       "        7.,  7.,  7.,  7.,  7.,  7.,  7.,  8.,  8.,  8.,  8.,  8.,  8.,\n",
       "        8.,  8.,  8.,  8.,  8.,  8.,  8.,  8.,  8.,  8.,  8.,  8.,  8.,\n",
       "        8.,  8.,  8.,  8.,  8.,  8.,  8.,  8.,  8.,  8.,  8.,  9.,  9.,\n",
       "        9.,  9.,  9.,  9.,  9.,  9.,  9.,  9.,  9.,  9.,  9.,  9.,  9.,\n",
       "        9.,  9.,  9.,  9.,  9.,  9.,  9.,  9.,  9.,  9.,  9.,  9.,  9.,\n",
       "        9.,  9.,  9.,  9.,  9.,  9., 10., 10., 10., 10., 10., 10., 10.,\n",
       "       10., 10., 10., 10., 10., 10., 10., 10., 10., 10., 10., 10., 10.,\n",
       "       10., 10., 10., 10., 10., 10., 10., 10., 10., 10., 11., 11., 11.,\n",
       "       11., 11., 11., 11., 11., 11., 11., 11., 11., 11., 11., 11., 11.,\n",
       "       11., 11., 11., 11., 11., 11., 11., 11., 11., 11., 11., 11., 12.,\n",
       "       12., 12., 12., 12., 12., 12., 12., 12., 12., 12., 12., 12., 12.,\n",
       "       12., 12., 12., 12., 12., 12., 12., 12., 12., 12., 12., 12., 12.,\n",
       "       12., 12., 12., 13., 13., 13., 13., 13., 13., 13., 13., 13., 13.,\n",
       "       13., 13., 13., 13., 13., 13., 13., 13., 13., 13., 13., 13., 13.,\n",
       "       13., 13., 13., 13., 13., 13., 13., 13., 13., 14., 14., 14., 14.,\n",
       "       14., 14., 14., 14., 14., 14., 14., 14., 14., 14., 14., 14., 14.,\n",
       "       14., 14., 14., 14., 14., 14., 14., 14., 14., 15., 15., 15., 15.,\n",
       "       15., 15., 15., 15., 15., 15., 15., 15., 15., 15., 15., 15., 15.,\n",
       "       15., 15., 15., 15., 15., 15., 15., 15., 15., 15., 15., 15., 15.,\n",
       "       15., 15., 15., 15., 15., 15., 16., 16., 16., 16., 16., 16., 16.,\n",
       "       16., 16., 16., 16., 16., 16., 16., 16., 16., 16., 16., 16., 16.,\n",
       "       16., 16., 16., 16., 16., 16., 16., 16., 17., 17., 17., 17., 17.,\n",
       "       17., 17., 17., 17., 17., 17., 17., 17., 17., 17., 17., 17., 17.,\n",
       "       17., 17., 17., 17., 17., 17., 17., 17., 17., 17., 17., 17., 17.,\n",
       "       17., 17., 17., 18., 18., 18., 18., 18., 18., 18., 18., 18., 18.,\n",
       "       18., 18., 18., 18., 18., 18., 18., 18., 18., 18., 18., 18., 18.,\n",
       "       18., 18., 18., 18., 18., 19., 19., 19., 19., 19., 19., 19., 19.,\n",
       "       19., 19., 19., 19., 19., 19., 19., 19., 19., 19., 19., 19., 19.,\n",
       "       19., 19., 19., 19., 19., 19., 19., 20., 20., 20., 20., 20., 20.,\n",
       "       20., 20., 20., 20., 20., 20., 20., 20., 20., 20., 20., 20., 20.,\n",
       "       20., 20., 20., 20., 20., 21., 21., 21., 21., 21., 21., 21., 21.,\n",
       "       21., 21., 21., 21., 21., 21., 21., 21., 21., 21., 21., 21., 21.,\n",
       "       21., 21., 21., 21., 21., 21., 21., 21., 21., 21., 21., 21., 21.,\n",
       "       22., 22., 22., 22., 22., 22., 22., 22., 22., 22., 22., 22., 22.,\n",
       "       22., 22., 22., 22., 22., 22., 22., 22., 22., 22., 22., 22., 22.,\n",
       "       22., 22., 22., 22., 23., 23., 23., 23., 23., 23., 23., 23., 23.,\n",
       "       23., 23., 23., 23., 23., 23., 23., 23., 23., 23., 23., 23., 23.,\n",
       "       23., 23., 23., 23., 23., 23., 24., 24., 24., 24., 24., 24., 24.,\n",
       "       24., 24., 24., 24., 24., 24., 24., 24., 24., 24., 24., 24., 24.,\n",
       "       24., 24., 25., 25., 25., 25., 25., 25., 25., 25., 25., 25., 25.,\n",
       "       25., 25., 25., 25., 25., 25., 25., 25., 25., 25., 25., 25., 25.,\n",
       "       25., 25., 25., 25., 26., 26., 26., 26., 26., 26., 26., 26., 26.,\n",
       "       26., 26., 26., 26., 26., 26., 26., 26., 26., 26., 26., 26., 26.,\n",
       "       26., 26., 26., 26., 26., 26., 27., 27., 27., 27., 27., 27., 27.,\n",
       "       27., 27., 27., 27., 27., 27., 27., 27., 27., 27., 27., 27., 27.,\n",
       "       27., 27., 27., 27., 27., 27., 27., 27., 28., 28., 28., 28., 28.,\n",
       "       28., 28., 28., 28., 28., 28., 28., 28., 28., 28., 28., 28., 28.,\n",
       "       28., 28., 28., 28., 28., 28., 28., 28., 28., 28., 29., 29., 29.,\n",
       "       29., 29., 29., 29., 29., 29., 29., 29., 29., 29., 29., 29., 29.,\n",
       "       29., 29., 29., 29., 29., 29., 29., 29., 29., 29., 30., 30., 30.,\n",
       "       30., 30., 30., 30., 30., 30., 30., 30., 30., 30., 30., 30., 30.,\n",
       "       30., 30., 30., 30., 30., 30., 30., 30., 30., 30., 30., 30., 30.,\n",
       "       30., 30., 30., 30., 30.])"
      ]
     },
     "execution_count": 39,
     "metadata": {},
     "output_type": "execute_result"
    }
   ],
   "source": [
    "x,y = try_PCA(0.9)\n",
    "y = y_lable_encode(y)\n",
    "y"
   ]
  },
  {
   "cell_type": "code",
   "execution_count": 40,
   "id": "f5db38ef",
   "metadata": {},
   "outputs": [
    {
     "data": {
      "text/plain": [
       "((915, 19), (915,))"
      ]
     },
     "execution_count": 40,
     "metadata": {},
     "output_type": "execute_result"
    }
   ],
   "source": [
    "x.shape, y.shape"
   ]
  },
  {
   "cell_type": "code",
   "execution_count": 48,
   "id": "3d342215",
   "metadata": {},
   "outputs": [
    {
     "data": {
      "text/plain": [
       "(732, 19)"
      ]
     },
     "execution_count": 48,
     "metadata": {},
     "output_type": "execute_result"
    }
   ],
   "source": [
    "\n",
    "    (train_x, test_x, train_y, test_y) = train_test_split(\n",
    "\t                                                    x,y, test_size=0.2, random_state=42)\n",
    "    train_x.shape"
   ]
  },
  {
   "cell_type": "code",
   "execution_count": 41,
   "id": "e939a3f3",
   "metadata": {},
   "outputs": [
    {
     "name": "stdout",
     "output_type": "stream",
     "text": [
      "is gpu available? True\n",
      "Model: \"sequential_2\"\n",
      "_________________________________________________________________\n",
      "Layer (type)                 Output Shape              Param #   \n",
      "=================================================================\n",
      "dense_10 (Dense)             (None, 19)                380       \n",
      "_________________________________________________________________\n",
      "dense_11 (Dense)             (None, 128)               2560      \n",
      "_________________________________________________________________\n",
      "dense_12 (Dense)             (None, 64)                8256      \n",
      "_________________________________________________________________\n",
      "dense_13 (Dense)             (None, 30)                1950      \n",
      "=================================================================\n",
      "Total params: 13,146\n",
      "Trainable params: 13,146\n",
      "Non-trainable params: 0\n",
      "_________________________________________________________________\n",
      "None\n"
     ]
    }
   ],
   "source": [
    "model = dnn_model_after_pca()\n",
    "#tf.config.list_physical_devices('GPU')\n",
    "print(\"is gpu available?\",tf.test.is_gpu_available())\n",
    "print(model.summary())"
   ]
  },
  {
   "cell_type": "code",
   "execution_count": 43,
   "id": "1b8f3a0f",
   "metadata": {},
   "outputs": [
    {
     "name": "stdout",
     "output_type": "stream",
     "text": [
      "('You must install pydot (`pip install pydot`) and install graphviz (see instructions at https://graphviz.gitlab.io/download/) ', 'for plot_model/model_to_dot to work.')\n"
     ]
    }
   ],
   "source": [
    "from tensorflow import keras\n",
    "keras.utils.plot_model(model, \"my_fashion_mnist_model.png\", show_shapes=True)"
   ]
  },
  {
   "cell_type": "code",
   "execution_count": null,
   "id": "d578700f",
   "metadata": {},
   "outputs": [],
   "source": [
    "train(x,y)"
   ]
  },
  {
   "cell_type": "code",
   "execution_count": 53,
   "id": "8e9f7882",
   "metadata": {
    "scrolled": true
   },
   "outputs": [
    {
     "name": "stdout",
     "output_type": "stream",
     "text": [
      "29/29 [==============================] - 0s 2ms/step - loss: nan - accuracy: 0.0328\n"
     ]
    },
    {
     "data": {
      "text/plain": [
       "<keras.callbacks.History at 0x22a4fb97a58>"
      ]
     },
     "execution_count": 53,
     "metadata": {},
     "output_type": "execute_result"
    }
   ],
   "source": [
    "model.fit(x,y,)"
   ]
  },
  {
   "cell_type": "code",
   "execution_count": 42,
   "id": "e85de2a6",
   "metadata": {},
   "outputs": [
    {
     "name": "stdout",
     "output_type": "stream",
     "text": [
      "StandardScaler()\n"
     ]
    },
    {
     "data": {
      "text/plain": [
       "(915, 19)"
      ]
     },
     "execution_count": 42,
     "metadata": {},
     "output_type": "execute_result"
    }
   ],
   "source": [
    "from sklearn.preprocessing import StandardScaler\n",
    "scaler = StandardScaler()\n",
    "print(scaler.fit(x))\n",
    "x = scaler.transform(x)\n",
    "x.shape"
   ]
  },
  {
   "cell_type": "code",
   "execution_count": 51,
   "id": "4b7b3be0",
   "metadata": {
    "scrolled": false
   },
   "outputs": [
    {
     "name": "stdout",
     "output_type": "stream",
     "text": [
      "Epoch 1/10\n",
      "29/29 [==============================] - 0s 2ms/step - loss: nan - accuracy: 0.0306\n",
      "Epoch 2/10\n",
      "29/29 [==============================] - 0s 2ms/step - loss: nan - accuracy: 0.0306\n",
      "Epoch 3/10\n",
      "29/29 [==============================] - 0s 2ms/step - loss: nan - accuracy: 0.0306\n",
      "Epoch 4/10\n",
      "29/29 [==============================] - 0s 2ms/step - loss: nan - accuracy: 0.0306\n",
      "Epoch 5/10\n",
      "29/29 [==============================] - 0s 2ms/step - loss: nan - accuracy: 0.0306\n",
      "Epoch 6/10\n",
      "29/29 [==============================] - 0s 2ms/step - loss: nan - accuracy: 0.0306\n",
      "Epoch 7/10\n",
      "29/29 [==============================] - 0s 2ms/step - loss: nan - accuracy: 0.0306\n",
      "Epoch 8/10\n",
      "29/29 [==============================] - 0s 2ms/step - loss: nan - accuracy: 0.0306\n",
      "Epoch 9/10\n",
      "29/29 [==============================] - 0s 2ms/step - loss: nan - accuracy: 0.0306\n",
      "Epoch 10/10\n",
      "29/29 [==============================] - 0s 2ms/step - loss: nan - accuracy: 0.0306\n"
     ]
    },
    {
     "data": {
      "text/plain": [
       "<keras.callbacks.History at 0x2c27a7a5ac8>"
      ]
     },
     "execution_count": 51,
     "metadata": {},
     "output_type": "execute_result"
    }
   ],
   "source": [
    "model.fit(x,y,batch_size=32 ,epochs=10)"
   ]
  },
  {
   "cell_type": "code",
   "execution_count": 77,
   "id": "a17ffc88",
   "metadata": {
    "collapsed": true
   },
   "outputs": [
    {
     "data": {
      "text/plain": [
       "array([ 0.,  0.,  0.,  0.,  0.,  0.,  0.,  0.,  0.,  0.,  0.,  0.,  0.,\n",
       "        0.,  0.,  0.,  0.,  0.,  0.,  0.,  0.,  0.,  0.,  0.,  0.,  0.,\n",
       "        0.,  0.,  1.,  1.,  1.,  1.,  1.,  1.,  1.,  1.,  1.,  1.,  1.,\n",
       "        1.,  1.,  1.,  1.,  1.,  1.,  1.,  1.,  1.,  1.,  1.,  1.,  1.,\n",
       "        1.,  1.,  1.,  2.,  2.,  2.,  2.,  2.,  2.,  2.,  2.,  2.,  2.,\n",
       "        2.,  2.,  2.,  2.,  2.,  2.,  2.,  2.,  2.,  2.,  2.,  2.,  2.,\n",
       "        2.,  2.,  2.,  2.,  2.,  2.,  2.,  2.,  2.,  2.,  2.,  2.,  2.,\n",
       "        3.,  3.,  3.,  3.,  3.,  3.,  3.,  3.,  3.,  3.,  3.,  3.,  3.,\n",
       "        3.,  3.,  3.,  3.,  3.,  3.,  3.,  3.,  3.,  3.,  3.,  3.,  3.,\n",
       "        3.,  3.,  3.,  3.,  4.,  4.,  4.,  4.,  4.,  4.,  4.,  4.,  4.,\n",
       "        4.,  4.,  4.,  4.,  4.,  4.,  4.,  4.,  4.,  4.,  4.,  5.,  5.,\n",
       "        5.,  5.,  5.,  5.,  5.,  5.,  5.,  5.,  5.,  5.,  5.,  5.,  5.,\n",
       "        5.,  5.,  5.,  5.,  5.,  5.,  5.,  5.,  5.,  5.,  5.,  5.,  5.,\n",
       "        6.,  6.,  6.,  6.,  6.,  6.,  6.,  6.,  6.,  6.,  6.,  6.,  6.,\n",
       "        6.,  6.,  6.,  6.,  6.,  6.,  6.,  6.,  6.,  6.,  6.,  6.,  6.,\n",
       "        6.,  6.,  6.,  6.,  6.,  6.,  6.,  6.,  6.,  6.,  6.,  6.,  6.,\n",
       "        6.,  7.,  7.,  7.,  7.,  7.,  7.,  7.,  7.,  7.,  7.,  7.,  7.,\n",
       "        7.,  7.,  7.,  7.,  7.,  7.,  7.,  7.,  7.,  7.,  7.,  7.,  7.,\n",
       "        7.,  7.,  7.,  7.,  7.,  7.,  7.,  8.,  8.,  8.,  8.,  8.,  8.,\n",
       "        8.,  8.,  8.,  8.,  8.,  8.,  8.,  8.,  8.,  8.,  8.,  8.,  8.,\n",
       "        8.,  8.,  8.,  8.,  8.,  8.,  8.,  8.,  8.,  8.,  8.,  9.,  9.,\n",
       "        9.,  9.,  9.,  9.,  9.,  9.,  9.,  9.,  9.,  9.,  9.,  9.,  9.,\n",
       "        9.,  9.,  9.,  9.,  9.,  9.,  9.,  9.,  9.,  9.,  9.,  9.,  9.,\n",
       "        9.,  9.,  9.,  9.,  9.,  9., 10., 10., 10., 10., 10., 10., 10.,\n",
       "       10., 10., 10., 10., 10., 10., 10., 10., 10., 10., 10., 10., 10.,\n",
       "       10., 10., 10., 10., 10., 10., 10., 10., 10., 10., 11., 11., 11.,\n",
       "       11., 11., 11., 11., 11., 11., 11., 11., 11., 11., 11., 11., 11.,\n",
       "       11., 11., 11., 11., 11., 11., 11., 11., 11., 11., 11., 11., 12.,\n",
       "       12., 12., 12., 12., 12., 12., 12., 12., 12., 12., 12., 12., 12.,\n",
       "       12., 12., 12., 12., 12., 12., 12., 12., 12., 12., 12., 12., 12.,\n",
       "       12., 12., 12., 13., 13., 13., 13., 13., 13., 13., 13., 13., 13.,\n",
       "       13., 13., 13., 13., 13., 13., 13., 13., 13., 13., 13., 13., 13.,\n",
       "       13., 13., 13., 13., 13., 13., 13., 13., 13., 14., 14., 14., 14.,\n",
       "       14., 14., 14., 14., 14., 14., 14., 14., 14., 14., 14., 14., 14.,\n",
       "       14., 14., 14., 14., 14., 14., 14., 14., 14., 15., 15., 15., 15.,\n",
       "       15., 15., 15., 15., 15., 15., 15., 15., 15., 15., 15., 15., 15.,\n",
       "       15., 15., 15., 15., 15., 15., 15., 15., 15., 15., 15., 15., 15.,\n",
       "       15., 15., 15., 15., 15., 15., 16., 16., 16., 16., 16., 16., 16.,\n",
       "       16., 16., 16., 16., 16., 16., 16., 16., 16., 16., 16., 16., 16.,\n",
       "       16., 16., 16., 16., 16., 16., 16., 16., 17., 17., 17., 17., 17.,\n",
       "       17., 17., 17., 17., 17., 17., 17., 17., 17., 17., 17., 17., 17.,\n",
       "       17., 17., 17., 17., 17., 17., 17., 17., 17., 17., 17., 17., 17.,\n",
       "       17., 17., 17., 18., 18., 18., 18., 18., 18., 18., 18., 18., 18.,\n",
       "       18., 18., 18., 18., 18., 18., 18., 18., 18., 18., 18., 18., 18.,\n",
       "       18., 18., 18., 18., 18., 19., 19., 19., 19., 19., 19., 19., 19.,\n",
       "       19., 19., 19., 19., 19., 19., 19., 19., 19., 19., 19., 19., 19.,\n",
       "       19., 19., 19., 19., 19., 19., 19., 20., 20., 20., 20., 20., 20.,\n",
       "       20., 20., 20., 20., 20., 20., 20., 20., 20., 20., 20., 20., 20.,\n",
       "       20., 20., 20., 20., 20., 21., 21., 21., 21., 21., 21., 21., 21.,\n",
       "       21., 21., 21., 21., 21., 21., 21., 21., 21., 21., 21., 21., 21.,\n",
       "       21., 21., 21., 21., 21., 21., 21., 21., 21., 21., 21., 21., 21.,\n",
       "       22., 22., 22., 22., 22., 22., 22., 22., 22., 22., 22., 22., 22.,\n",
       "       22., 22., 22., 22., 22., 22., 22., 22., 22., 22., 22., 22., 22.,\n",
       "       22., 22., 22., 22., 23., 23., 23., 23., 23., 23., 23., 23., 23.,\n",
       "       23., 23., 23., 23., 23., 23., 23., 23., 23., 23., 23., 23., 23.,\n",
       "       23., 23., 23., 23., 23., 23., 24., 24., 24., 24., 24., 24., 24.,\n",
       "       24., 24., 24., 24., 24., 24., 24., 24., 24., 24., 24., 24., 24.,\n",
       "       24., 24., 25., 25., 25., 25., 25., 25., 25., 25., 25., 25., 25.,\n",
       "       25., 25., 25., 25., 25., 25., 25., 25., 25., 25., 25., 25., 25.,\n",
       "       25., 25., 25., 25., 26., 26., 26., 26., 26., 26., 26., 26., 26.,\n",
       "       26., 26., 26., 26., 26., 26., 26., 26., 26., 26., 26., 26., 26.,\n",
       "       26., 26., 26., 26., 26., 26., 27., 27., 27., 27., 27., 27., 27.,\n",
       "       27., 27., 27., 27., 27., 27., 27., 27., 27., 27., 27., 27., 27.,\n",
       "       27., 27., 27., 27., 27., 27., 27., 27., 28., 28., 28., 28., 28.,\n",
       "       28., 28., 28., 28., 28., 28., 28., 28., 28., 28., 28., 28., 28.,\n",
       "       28., 28., 28., 28., 28., 28., 28., 28., 28., 28., 29., 29., 29.,\n",
       "       29., 29., 29., 29., 29., 29., 29., 29., 29., 29., 29., 29., 29.,\n",
       "       29., 29., 29., 29., 29., 29., 29., 29., 29., 29., 30., 30., 30.,\n",
       "       30., 30., 30., 30., 30., 30., 30., 30., 30., 30., 30., 30., 30.,\n",
       "       30., 30., 30., 30., 30., 30., 30., 30., 30., 30., 30., 30., 30.,\n",
       "       30., 30., 30., 30., 30.])"
      ]
     },
     "execution_count": 77,
     "metadata": {},
     "output_type": "execute_result"
    }
   ],
   "source": [
    "y = y.astype(float)\n",
    "y"
   ]
  },
  {
   "cell_type": "code",
   "execution_count": 47,
   "id": "ad9a425d",
   "metadata": {},
   "outputs": [
    {
     "data": {
      "text/plain": [
       "(915, 19)"
      ]
     },
     "execution_count": 47,
     "metadata": {},
     "output_type": "execute_result"
    }
   ],
   "source": [
    "x.shape"
   ]
  },
  {
   "cell_type": "code",
   "execution_count": 49,
   "id": "348702d9",
   "metadata": {},
   "outputs": [
    {
     "data": {
      "text/plain": [
       "0"
      ]
     },
     "execution_count": 49,
     "metadata": {},
     "output_type": "execute_result"
    }
   ],
   "source": [
    "# loss nan reason\n",
    "# 1. do input values have nan value? -> NO!\n",
    "np.sum(np.isnan(x))\n",
    "# 2. "
   ]
  },
  {
   "cell_type": "code",
   "execution_count": 6,
   "id": "3ecc6313",
   "metadata": {},
   "outputs": [],
   "source": [
    "# TensorFlow and tf.keras\n",
    "import tensorflow as tf\n",
    "from sklearn.model_selection import train_test_split\n",
    "\n",
    "from load_data import try_PCA, load_data\n",
    "from sklearn.decomposition import PCA"
   ]
  },
  {
   "cell_type": "code",
   "execution_count": 7,
   "id": "5d13d43a",
   "metadata": {},
   "outputs": [],
   "source": [
    "x,y = load_data()"
   ]
  },
  {
   "cell_type": "code",
   "execution_count": 8,
   "id": "f8a8b42b",
   "metadata": {},
   "outputs": [],
   "source": [
    "from sklearn.manifold import TSNE\n",
    "pca = PCA(n_components=0.95)\n",
    "x = x.reshape((x.shape[0],-1))\n",
    "x = pca.fit_transform(x)"
   ]
  },
  {
   "cell_type": "code",
   "execution_count": 9,
   "id": "df7b654c",
   "metadata": {},
   "outputs": [
    {
     "data": {
      "text/plain": [
       "(915, 39)"
      ]
     },
     "execution_count": 9,
     "metadata": {},
     "output_type": "execute_result"
    }
   ],
   "source": [
    "x.shape"
   ]
  },
  {
   "cell_type": "code",
   "execution_count": 23,
   "id": "7450d199",
   "metadata": {},
   "outputs": [],
   "source": [
    "x_embed = TSNE(n_components=2).fit_transform(x)"
   ]
  },
  {
   "cell_type": "code",
   "execution_count": 24,
   "id": "75d5cc05",
   "metadata": {},
   "outputs": [
    {
     "data": {
      "text/plain": [
       "(915, 2)"
      ]
     },
     "execution_count": 24,
     "metadata": {},
     "output_type": "execute_result"
    }
   ],
   "source": [
    "x_embed.shape"
   ]
  },
  {
   "cell_type": "code",
   "execution_count": 26,
   "id": "b39b7c45",
   "metadata": {},
   "outputs": [
    {
     "data": {
      "image/png": "[encoded data removed]",
      "text/plain": [
       "<Figure size 432x288 with 1 Axes>"
      ]
     },
     "metadata": {
      "needs_background": "light"
     },
     "output_type": "display_data"
    }
   ],
   "source": [
    "import matplotlib.pyplot as plt\n",
    "import numpy as np\n",
    "fig = plt.figure()\n",
    "ax = fig.add_subplot(111)\n",
    "for i in set(y):\n",
    "    condition = (np.array(y) == i)\n",
    "    ax.scatter(x_embed[condition][0],x_embed[condition][1])\n",
    "\n",
    "plt.title('T-SNE 2D', fontsize=14)\n",
    "plt.savefig(\"T-SNE 2D.png\")\n",
    "plt.show()"
   ]
  },
  {
   "cell_type": "code",
   "execution_count": 22,
   "id": "35eaf4c4",
   "metadata": {},
   "outputs": [
    {
     "data": {
      "image/png": "[encoded data removed]",
      "text/plain": [
       "<Figure size 432x288 with 1 Axes>"
      ]
     },
     "metadata": {
      "needs_background": "light"
     },
     "output_type": "display_data"
    }
   ],
   "source": [
    "fig = plt.figure()\n",
    "ax = fig.add_subplot(111,projection='3d')\n",
    "for i in set(y):\n",
    "    condition = (np.array(y) == i)\n",
    "    ax.scatter(x_embed[condition][0],x_embed[condition][1],x_embed[condition][2])\n",
    "\n",
    "plt.title('T-SNE 3d', fontsize=14)\n",
    "plt.savefig(\"T-SNE 3D.png\")\n",
    "plt.show()"
   ]
  },
  {
   "cell_type": "code",
   "execution_count": 8,
   "id": "adae937e",
   "metadata": {},
   "outputs": [],
   "source": [
    "import os\n",
    "import glob\n",
    "import pickle\n",
    "import numpy as np\n",
    "from sklearn.decomposition import PCA\n",
    "from sklearn.neighbors import KNeighborsClassifier\n",
    "from sklearn.model_selection import train_test_split\n",
    "import pandas as pd\n",
    "import matplotlib.pyplot as plt\n",
    "from sklearn.metrics import confusion_matrix"
   ]
  },
  {
   "cell_type": "code",
   "execution_count": 10,
   "id": "1144be09",
   "metadata": {},
   "outputs": [],
   "source": [
    "def knn_classifier(train_x, test_x, train_y, test_y):\n",
    "    model = KNeighborsClassifier(n_neighbors=3)\n",
    "    model.fit(train_x,train_y)\n",
    "    acc_test = model.score(test_x,test_y)\n",
    "    print(confusion_matrix(test_y, model.predict(test_x)))\n",
    "    print(\"knn classfier acc:\",acc_test)\n",
    "    return acc_test\n",
    "\n",
    "def svm_classifier(train_x, test_x, train_y, test_y):\n",
    "    from sklearn.svm import SVC\n",
    "    clf =SVC(gamma='auto')\n",
    "    clf.fit(train_x,train_y)\n",
    "    acc = clf.score(test_x,test_y)\n",
    "    print(\"svm_classifier acc\",acc)\n",
    "    return acc"
   ]
  },
  {
   "cell_type": "code",
   "execution_count": 11,
   "id": "a2775546",
   "metadata": {},
   "outputs": [
    {
     "name": "stdout",
     "output_type": "stream",
     "text": [
      "(915, 19)\n",
      "[[0 0 0 0 0 0 1 1 0 0 0 0 0 0 0 0 0 0 0 0 0 0 0 0 0 0 0 0 0 0 0]\n",
      " [0 2 2 0 0 0 0 1 0 0 0 1 0 0 0 0 0 0 0 0 0 0 0 0 0 0 0 0 0 1 0]\n",
      " [2 1 0 1 1 3 0 0 0 1 1 0 0 0 0 0 0 0 0 0 0 0 0 1 0 0 0 0 1 0 0]\n",
      " [0 0 0 1 0 1 0 1 0 2 0 0 0 0 0 0 0 0 0 0 0 1 0 0 0 0 0 0 0 0 0]\n",
      " [0 0 0 0 1 0 0 0 0 0 0 0 0 0 0 0 0 2 0 0 0 0 0 0 0 0 0 0 0 0 0]\n",
      " [0 0 2 0 0 0 0 0 0 0 0 0 0 0 0 0 0 0 0 1 0 0 0 0 0 0 0 0 0 0 0]\n",
      " [0 0 1 0 0 0 1 0 0 0 0 0 0 0 1 0 0 1 0 0 0 0 0 0 0 0 0 0 0 0 0]\n",
      " [0 3 0 0 1 1 1 1 0 1 0 1 1 0 0 0 0 0 0 0 0 0 0 0 0 0 0 0 0 0 0]\n",
      " [0 1 0 0 0 0 0 1 2 0 2 1 0 0 0 0 0 0 0 0 0 0 0 0 0 0 0 0 0 0 0]\n",
      " [1 2 0 1 0 0 0 0 0 0 0 0 0 0 0 0 1 0 0 0 0 0 0 0 0 0 0 0 0 0 0]\n",
      " [0 0 1 2 0 0 0 1 1 1 0 0 0 0 1 0 0 0 0 0 0 1 2 0 1 0 0 0 0 0 0]\n",
      " [0 1 0 0 2 1 1 0 0 0 0 0 0 0 0 0 1 0 0 0 0 0 0 0 0 0 0 0 0 0 0]\n",
      " [1 1 0 0 0 1 0 0 0 0 0 0 2 0 0 0 0 1 0 0 0 0 0 0 0 0 0 0 0 1 0]\n",
      " [2 0 0 0 0 0 0 0 0 1 0 0 1 2 0 0 0 0 0 0 0 0 0 0 0 0 0 0 0 0 1]\n",
      " [1 0 0 0 0 0 0 0 0 0 0 1 0 0 0 0 0 0 0 0 2 0 0 0 0 0 0 0 0 0 0]\n",
      " [1 0 0 1 0 0 0 0 2 1 0 0 0 0 1 1 0 0 0 0 0 0 0 0 0 0 0 0 0 0 0]\n",
      " [0 0 0 0 0 0 0 0 0 0 0 1 0 0 0 0 2 0 1 1 0 0 0 0 0 0 0 0 1 0 0]\n",
      " [1 1 0 0 0 0 2 1 0 0 0 0 1 0 0 0 0 3 0 0 0 0 0 0 0 0 0 0 0 0 0]\n",
      " [0 0 0 2 0 0 0 0 0 1 0 0 0 0 0 0 1 0 0 1 0 0 0 0 0 0 0 0 0 0 0]\n",
      " [1 0 0 0 0 0 1 0 0 3 1 0 0 0 0 0 0 2 1 0 0 0 0 0 0 0 0 0 0 0 0]\n",
      " [0 0 0 0 1 0 1 0 0 0 0 0 0 0 0 1 0 0 0 0 0 0 0 0 0 0 0 0 0 0 0]\n",
      " [0 0 0 0 0 0 1 0 2 1 0 0 0 0 1 0 0 0 0 0 0 1 0 0 0 0 0 0 0 0 0]\n",
      " [0 0 0 0 0 1 1 1 0 1 0 0 0 0 0 0 0 0 0 0 0 0 0 0 0 1 0 0 0 0 0]\n",
      " [0 1 0 0 1 0 0 0 0 0 0 0 0 0 0 0 0 0 0 1 0 0 0 0 0 0 1 0 0 0 0]\n",
      " [0 0 0 0 0 0 0 0 0 0 0 0 0 0 0 0 0 0 0 0 0 0 0 0 0 0 0 0 1 0 0]\n",
      " [1 0 3 0 0 0 0 0 0 0 0 0 0 0 0 0 0 1 0 0 0 0 0 0 0 1 0 0 0 0 0]\n",
      " [0 0 0 0 1 0 0 0 0 0 0 0 0 0 0 0 0 0 0 0 0 0 0 0 0 0 1 0 0 0 0]\n",
      " [0 1 1 1 0 0 0 1 0 0 1 0 0 0 0 0 0 0 0 0 0 0 1 0 0 0 0 0 0 0 0]\n",
      " [0 0 0 0 0 0 0 0 0 0 0 0 0 0 0 2 0 0 0 0 0 1 0 0 1 0 0 0 0 1 0]\n",
      " [1 0 0 0 0 0 2 0 0 0 0 0 0 1 0 0 0 0 0 0 0 0 0 0 0 0 0 0 0 0 0]\n",
      " [1 1 0 0 0 1 0 0 3 1 1 0 0 0 0 2 0 0 0 0 0 0 0 1 0 0 0 0 0 0 0]]\n",
      "knn classfier acc: 0.11475409836065574\n",
      "svm_classifier acc 0.08196721311475409\n"
     ]
    }
   ],
   "source": [
    "x,y = try_PCA(0.9)\n",
    "    #draw_plot(x,y)\n",
    "    #draw_tsne(x,y)\n",
    "y = np.array(y)\n",
    "(train_x, test_x, train_y, test_y) = train_test_split(\n",
    "                                                    x,y, test_size=0.2, random_state=42)\n",
    "knn_acc = knn_classifier(train_x, test_x, train_y, test_y)\n",
    "svm_acc = svm_classifier(train_x, test_x, train_y, test_y)\n"
   ]
  },
  {
   "cell_type": "code",
   "execution_count": 15,
   "id": "a87d6204",
   "metadata": {},
   "outputs": [
    {
     "data": {
      "text/plain": [
       "<BarContainer object of 2 artists>"
      ]
     },
     "execution_count": 15,
     "metadata": {},
     "output_type": "execute_result"
    },
    {
     "data": {
      "image/png": "[encoded data removed]",
      "text/plain": [
       "<Figure size 432x288 with 1 Axes>"
      ]
     },
     "metadata": {
      "needs_background": "light"
     },
     "output_type": "display_data"
    }
   ],
   "source": [
    "label = ['Thur', 'Fri']\n",
    "\n",
    "index = np.arange(len(label))\n",
    "\n",
    "\n",
    "plt.bar([\"KNN\",\"SVM\"], [knn_acc,svm_acc])"
   ]
  },
  {
   "cell_type": "code",
   "execution_count": null,
   "id": "7da6aa78",
   "metadata": {},
   "outputs": [],
   "source": []
  }
 ],
 "metadata": {
  "kernelspec": {
   "display_name": "Python 3",
   "language": "python",
   "name": "python3"
  },
  "language_info": {
   "codemirror_mode": {
    "name": "ipython",
    "version": 3
   },
   "file_extension": ".py",
   "mimetype": "text/x-python",
   "name": "python",
   "nbconvert_exporter": "python",
   "pygments_lexer": "ipython3",
   "version": "3.6.13"
  }
 },
 "nbformat": 4,
 "nbformat_minor": 5
}
